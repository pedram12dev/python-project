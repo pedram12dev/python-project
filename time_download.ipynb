{
 "cells": [
  {
   "cell_type": "code",
   "execution_count": 4,
   "metadata": {},
   "outputs": [],
   "source": [
    "### write a class that takes a URL, downloads the web page for that URL and provides us some metrics on that URL \n",
    "# - like how long it took to download, the size (in bytes) of the page."
   ]
  },
  {
   "cell_type": "code",
   "execution_count": 1,
   "metadata": {},
   "outputs": [],
   "source": [
    "from time import perf_counter\n",
    "import certifi\n",
    "import urllib.request\n",
    "import ssl"
   ]
  },
  {
   "cell_type": "code",
   "execution_count": 2,
   "metadata": {},
   "outputs": [],
   "source": [
    "class WebPage:\n",
    "    def __init__(self, url):\n",
    "        self.url = url\n",
    "        self._page = None\n",
    "        self._load_time_secs = None\n",
    "        self._page_size = None\n",
    "\n",
    "    @property\n",
    "    def url(self):\n",
    "        return self._url\n",
    "\n",
    "    @url.setter\n",
    "    def url(self,value):\n",
    "        self._url = value\n",
    "        self._page_size = None\n",
    "\n",
    "    @property\n",
    "    def page(self):\n",
    "        if self._page is None:\n",
    "            self.download_page()\n",
    "        return self._page\n",
    "\n",
    "    @property\n",
    "    def page_size(self):\n",
    "        if self._page is None:\n",
    "            self.download_page()\n",
    "        return self._page_size\n",
    "\n",
    "    @property\n",
    "    def time_elapsed(self):\n",
    "        if self._page is None:\n",
    "            self.download_page()\n",
    "        return self._load_time_secs\n",
    "\n",
    "    def download_page(self):\n",
    "        self._page_size = None\n",
    "        self._load_time_secs =None\n",
    "        start_time = perf_counter()\n",
    "        context = ssl.create_default_context(cafile=certifi.where())\n",
    "        with urllib.request.urlopen(self._url , context=context) as f:\n",
    "            self._page = f.read()\n",
    "        end_time = perf_counter()\n",
    "        self._page_size = len(self._page)\n",
    "        self._load_time_secs = end_time - start_time\n"
   ]
  },
  {
   "cell_type": "code",
   "execution_count": 4,
   "metadata": {},
   "outputs": [
    {
     "name": "stdout",
     "output_type": "stream",
     "text": [
      "https://www.google.com \tsize=18_597 \telapsed=1.03 secs\n",
      "https://www.yahoo.com \tsize=1_723_160 \telapsed=1.78 secs\n",
      "https://www.python.org \tsize=11_620 \telapsed=0.50 secs\n"
     ]
    }
   ],
   "source": [
    "urls = [\n",
    "    'https://www.google.com',\n",
    "    'https://www.yahoo.com',\n",
    "    'https://www.python.org',\n",
    "]\n",
    "\n",
    "for url in urls:\n",
    "    page = WebPage(url)\n",
    "    print(f'{url} \\tsize={format(page.page_size, \"_\")} \\telapsed={page.time_elapsed:.2f} secs')"
   ]
  },
  {
   "cell_type": "code",
   "execution_count": null,
   "metadata": {},
   "outputs": [],
   "source": []
  }
 ],
 "metadata": {
  "kernelspec": {
   "display_name": "env",
   "language": "python",
   "name": "python3"
  },
  "language_info": {
   "codemirror_mode": {
    "name": "ipython",
    "version": 3
   },
   "file_extension": ".py",
   "mimetype": "text/x-python",
   "name": "python",
   "nbconvert_exporter": "python",
   "pygments_lexer": "ipython3",
   "version": "3.10.10"
  }
 },
 "nbformat": 4,
 "nbformat_minor": 2
}
